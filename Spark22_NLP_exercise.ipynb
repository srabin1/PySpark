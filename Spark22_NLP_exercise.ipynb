{
 "cells": [
  {
   "cell_type": "code",
   "execution_count": 1,
   "id": "a7c8a92a-cd6f-4dd0-b919-9d879a21c9c9",
   "metadata": {},
   "outputs": [
    {
     "name": "stderr",
     "output_type": "stream",
     "text": [
      "24/08/08 14:21:12 WARN Utils: Your hostname, DESKTOP-P0KTK6U resolves to a loopback address: 127.0.1.1; using 10.255.255.254 instead (on interface lo)\n",
      "24/08/08 14:21:12 WARN Utils: Set SPARK_LOCAL_IP if you need to bind to another address\n",
      "Setting default log level to \"WARN\".\n",
      "To adjust logging level use sc.setLogLevel(newLevel). For SparkR, use setLogLevel(newLevel).\n",
      "24/08/08 14:21:13 WARN NativeCodeLoader: Unable to load native-hadoop library for your platform... using builtin-java classes where applicable\n",
      "24/08/08 14:21:14 WARN Utils: Service 'SparkUI' could not bind on port 4040. Attempting port 4041.\n",
      "24/08/08 14:21:14 WARN Utils: Service 'SparkUI' could not bind on port 4041. Attempting port 4042.\n",
      "24/08/08 14:21:14 WARN Utils: Service 'SparkUI' could not bind on port 4042. Attempting port 4043.\n",
      "24/08/08 14:21:14 WARN Utils: Service 'SparkUI' could not bind on port 4043. Attempting port 4044.\n",
      "24/08/08 14:21:14 WARN Utils: Service 'SparkUI' could not bind on port 4044. Attempting port 4045.\n"
     ]
    }
   ],
   "source": [
    "import findspark\n",
    "findspark.init('/home/srabin/spark-3.5.1-bin-hadoop3')\n",
    "import pyspark\n",
    "from pyspark.sql import SparkSession\n",
    "spark = SparkSession.builder.appName('nlp_exe').getOrCreate()"
   ]
  },
  {
   "cell_type": "code",
   "execution_count": 4,
   "id": "2fca404e-d571-4fe6-a2b2-927648dc42f4",
   "metadata": {},
   "outputs": [],
   "source": [
    "data = spark.read.csv('SMSSpamCollection', inferSchema= True, sep = '\\t') #seperated by tab not comma"
   ]
  },
  {
   "cell_type": "code",
   "execution_count": 5,
   "id": "da69e7ab-6aa6-49d8-9d4c-32f26a02845b",
   "metadata": {},
   "outputs": [
    {
     "name": "stdout",
     "output_type": "stream",
     "text": [
      "+----+--------------------+\n",
      "| _c0|                 _c1|\n",
      "+----+--------------------+\n",
      "| ham|Go until jurong p...|\n",
      "| ham|Ok lar... Joking ...|\n",
      "|spam|Free entry in 2 a...|\n",
      "| ham|U dun say so earl...|\n",
      "| ham|Nah I don't think...|\n",
      "|spam|FreeMsg Hey there...|\n",
      "| ham|Even my brother i...|\n",
      "| ham|As per your reque...|\n",
      "|spam|WINNER!! As a val...|\n",
      "|spam|Had your mobile 1...|\n",
      "| ham|I'm gonna be home...|\n",
      "|spam|SIX chances to wi...|\n",
      "|spam|URGENT! You have ...|\n",
      "| ham|I've been searchi...|\n",
      "| ham|I HAVE A DATE ON ...|\n",
      "|spam|XXXMobileMovieClu...|\n",
      "| ham|Oh k...i'm watchi...|\n",
      "| ham|Eh u remember how...|\n",
      "| ham|Fine if thats th...|\n",
      "|spam|England v Macedon...|\n",
      "+----+--------------------+\n",
      "only showing top 20 rows\n",
      "\n"
     ]
    }
   ],
   "source": [
    "data.show()"
   ]
  },
  {
   "cell_type": "code",
   "execution_count": 7,
   "id": "e12d196d-4a06-4ed5-805a-7d6220a54729",
   "metadata": {},
   "outputs": [],
   "source": [
    "# relabel the columns\n",
    "data = data.withColumnRenamed('_c0', 'class').withColumnRenamed('_c1', 'text') "
   ]
  },
  {
   "cell_type": "code",
   "execution_count": 8,
   "id": "47e4caf1-2ee2-45a3-9169-73ffc2985170",
   "metadata": {},
   "outputs": [
    {
     "name": "stdout",
     "output_type": "stream",
     "text": [
      "+-----+--------------------+\n",
      "|class|                text|\n",
      "+-----+--------------------+\n",
      "|  ham|Go until jurong p...|\n",
      "|  ham|Ok lar... Joking ...|\n",
      "| spam|Free entry in 2 a...|\n",
      "|  ham|U dun say so earl...|\n",
      "|  ham|Nah I don't think...|\n",
      "| spam|FreeMsg Hey there...|\n",
      "|  ham|Even my brother i...|\n",
      "|  ham|As per your reque...|\n",
      "| spam|WINNER!! As a val...|\n",
      "| spam|Had your mobile 1...|\n",
      "|  ham|I'm gonna be home...|\n",
      "| spam|SIX chances to wi...|\n",
      "| spam|URGENT! You have ...|\n",
      "|  ham|I've been searchi...|\n",
      "|  ham|I HAVE A DATE ON ...|\n",
      "| spam|XXXMobileMovieClu...|\n",
      "|  ham|Oh k...i'm watchi...|\n",
      "|  ham|Eh u remember how...|\n",
      "|  ham|Fine if thats th...|\n",
      "| spam|England v Macedon...|\n",
      "+-----+--------------------+\n",
      "only showing top 20 rows\n",
      "\n"
     ]
    }
   ],
   "source": [
    "data.show()"
   ]
  },
  {
   "cell_type": "code",
   "execution_count": 9,
   "id": "2245746f-bbc6-4ecc-88bc-348c67f183b3",
   "metadata": {},
   "outputs": [],
   "source": [
    "from pyspark.sql.functions import length"
   ]
  },
  {
   "cell_type": "code",
   "execution_count": 10,
   "id": "2c4e73d1-bb6c-4654-b89e-87baa213d2f1",
   "metadata": {},
   "outputs": [],
   "source": [
    "data = data.withColumn('length', length(data['text'])) # create another data"
   ]
  },
  {
   "cell_type": "code",
   "execution_count": 11,
   "id": "3eeff4bf-62d1-42a9-8605-0c7b39dee410",
   "metadata": {},
   "outputs": [
    {
     "name": "stdout",
     "output_type": "stream",
     "text": [
      "+-----+--------------------+------+\n",
      "|class|                text|length|\n",
      "+-----+--------------------+------+\n",
      "|  ham|Go until jurong p...|   111|\n",
      "|  ham|Ok lar... Joking ...|    29|\n",
      "| spam|Free entry in 2 a...|   155|\n",
      "|  ham|U dun say so earl...|    49|\n",
      "|  ham|Nah I don't think...|    61|\n",
      "| spam|FreeMsg Hey there...|   147|\n",
      "|  ham|Even my brother i...|    77|\n",
      "|  ham|As per your reque...|   160|\n",
      "| spam|WINNER!! As a val...|   157|\n",
      "| spam|Had your mobile 1...|   154|\n",
      "|  ham|I'm gonna be home...|   109|\n",
      "| spam|SIX chances to wi...|   136|\n",
      "| spam|URGENT! You have ...|   155|\n",
      "|  ham|I've been searchi...|   196|\n",
      "|  ham|I HAVE A DATE ON ...|    35|\n",
      "| spam|XXXMobileMovieClu...|   149|\n",
      "|  ham|Oh k...i'm watchi...|    26|\n",
      "|  ham|Eh u remember how...|    81|\n",
      "|  ham|Fine if thats th...|    56|\n",
      "| spam|England v Macedon...|   155|\n",
      "+-----+--------------------+------+\n",
      "only showing top 20 rows\n",
      "\n"
     ]
    }
   ],
   "source": [
    "data.show()"
   ]
  },
  {
   "cell_type": "code",
   "execution_count": 12,
   "id": "d86f3fc7-c8d5-4e29-a72f-528534f641bf",
   "metadata": {},
   "outputs": [
    {
     "name": "stdout",
     "output_type": "stream",
     "text": [
      "+-----+-----------------+\n",
      "|class|      avg(length)|\n",
      "+-----+-----------------+\n",
      "|  ham|71.45431945307645|\n",
      "| spam|138.6706827309237|\n",
      "+-----+-----------------+\n",
      "\n"
     ]
    }
   ],
   "source": [
    "data.groupBy('class').mean().show()"
   ]
  },
  {
   "cell_type": "code",
   "execution_count": 13,
   "id": "e4221c2d-8d5d-4d3a-8dc3-c75ead25fdb8",
   "metadata": {},
   "outputs": [],
   "source": [
    "from pyspark.ml.feature import Tokenizer, StopWordsRemover, CountVectorizer, IDF, StringIndexer"
   ]
  },
  {
   "cell_type": "code",
   "execution_count": 14,
   "id": "b72e397a-509c-46d0-9fe9-cb8ee9152edd",
   "metadata": {},
   "outputs": [],
   "source": [
    "tokenizer = Tokenizer (inputCol = 'text', outputCol = 'token_text')"
   ]
  },
  {
   "cell_type": "code",
   "execution_count": 15,
   "id": "49a60783-6534-4e5c-a850-586ec8592016",
   "metadata": {},
   "outputs": [],
   "source": [
    "stop_remove = StopWordsRemover(inputCol = 'token_text', outputCol = 'stop_token')"
   ]
  },
  {
   "cell_type": "code",
   "execution_count": 16,
   "id": "eed6bafc-d924-4975-9602-f6015e072b07",
   "metadata": {},
   "outputs": [],
   "source": [
    "count_vec = CountVectorizer(inputCol = 'stop_token', outputCol = 'c_vec')"
   ]
  },
  {
   "cell_type": "code",
   "execution_count": 17,
   "id": "d563b052-db26-4832-901e-a10aaa7496f6",
   "metadata": {},
   "outputs": [],
   "source": [
    "idf = IDF (inputCol = 'c_vec', outputCol = 'tf_idf')"
   ]
  },
  {
   "cell_type": "code",
   "execution_count": 18,
   "id": "d5312e6d-c54e-4bab-843e-76508f12fe60",
   "metadata": {},
   "outputs": [],
   "source": [
    "ham_spam_to_numeric = StringIndexer(inputCol = 'class', outputCol = 'label')"
   ]
  },
  {
   "cell_type": "code",
   "execution_count": 19,
   "id": "3784ff94-6aa4-4de4-89f3-8f9457668781",
   "metadata": {},
   "outputs": [],
   "source": [
    "from pyspark.ml.feature import VectorAssembler"
   ]
  },
  {
   "cell_type": "code",
   "execution_count": 33,
   "id": "842d4f78-91dc-41db-b209-98f18011b0ff",
   "metadata": {},
   "outputs": [],
   "source": [
    "clean_up = VectorAssembler(inputCols = ['tf_idf', 'length'],outputCol = 'features')"
   ]
  },
  {
   "cell_type": "code",
   "execution_count": 34,
   "id": "2ad98db5-b1a3-466f-901f-38cb2a0d4473",
   "metadata": {},
   "outputs": [],
   "source": [
    "from pyspark.ml.classification import NaiveBayes"
   ]
  },
  {
   "cell_type": "code",
   "execution_count": 35,
   "id": "edd4982b-d2c4-46bb-9b73-9cf3bc871baa",
   "metadata": {},
   "outputs": [],
   "source": [
    "nb = NaiveBayes()"
   ]
  },
  {
   "cell_type": "code",
   "execution_count": 36,
   "id": "92b71263-630e-4451-8058-84b03d0c606a",
   "metadata": {},
   "outputs": [],
   "source": [
    "from pyspark.ml import Pipeline"
   ]
  },
  {
   "cell_type": "code",
   "execution_count": 37,
   "id": "15d23bba-c131-4db1-9d6e-a9ecd25b8153",
   "metadata": {},
   "outputs": [],
   "source": [
    "data_prep_pipe = Pipeline(stages = [ham_spam_to_numeric, tokenizer, stop_remove, count_vec, idf, clean_up])"
   ]
  },
  {
   "cell_type": "code",
   "execution_count": 38,
   "id": "16f0ae36-1702-471f-bf32-702c2eb70f90",
   "metadata": {},
   "outputs": [],
   "source": [
    "cleaner = data_prep_pipe.fit(data)"
   ]
  },
  {
   "cell_type": "code",
   "execution_count": 39,
   "id": "fab9c11d-5a47-4e58-93ef-dcff49715917",
   "metadata": {},
   "outputs": [],
   "source": [
    "clean_data = cleaner.transform(data)"
   ]
  },
  {
   "cell_type": "code",
   "execution_count": 41,
   "id": "2d68d3bc-761b-4c70-9d32-b27d1183551e",
   "metadata": {},
   "outputs": [],
   "source": [
    "clean_data = clean_data.select('label', 'features')"
   ]
  },
  {
   "cell_type": "code",
   "execution_count": 43,
   "id": "2fa71bc5-083a-41db-aba5-f5fa3ec0bfc4",
   "metadata": {},
   "outputs": [
    {
     "name": "stdout",
     "output_type": "stream",
     "text": [
      "+-----+--------------------+\n",
      "|label|            features|\n",
      "+-----+--------------------+\n",
      "|  0.0|(13424,[7,11,31,6...|\n",
      "|  0.0|(13424,[0,24,301,...|\n",
      "|  1.0|(13424,[2,13,19,3...|\n",
      "|  0.0|(13424,[0,70,80,1...|\n",
      "|  0.0|(13424,[36,134,31...|\n",
      "|  1.0|(13424,[10,60,140...|\n",
      "|  0.0|(13424,[10,53,102...|\n",
      "|  0.0|(13424,[127,185,4...|\n",
      "|  1.0|(13424,[1,47,121,...|\n",
      "|  1.0|(13424,[0,1,13,27...|\n",
      "|  0.0|(13424,[18,43,117...|\n",
      "|  1.0|(13424,[8,16,37,8...|\n",
      "|  1.0|(13424,[13,30,47,...|\n",
      "|  0.0|(13424,[39,95,221...|\n",
      "|  0.0|(13424,[555,1797,...|\n",
      "|  1.0|(13424,[30,109,11...|\n",
      "|  0.0|(13424,[82,214,44...|\n",
      "|  0.0|(13424,[0,2,49,13...|\n",
      "|  0.0|(13424,[0,74,105,...|\n",
      "|  1.0|(13424,[4,30,33,5...|\n",
      "+-----+--------------------+\n",
      "only showing top 20 rows\n",
      "\n"
     ]
    }
   ],
   "source": [
    "clean_data.show()"
   ]
  },
  {
   "cell_type": "code",
   "execution_count": 44,
   "id": "975a91ed-8060-4203-932b-fabaeb1de569",
   "metadata": {},
   "outputs": [],
   "source": [
    "training, test = clean_data.randomSplit([0.7, 0.3])"
   ]
  },
  {
   "cell_type": "code",
   "execution_count": 45,
   "id": "669390f7-905d-40cb-95ad-66677ec4449e",
   "metadata": {},
   "outputs": [
    {
     "name": "stderr",
     "output_type": "stream",
     "text": [
      "24/08/08 14:44:59 WARN DAGScheduler: Broadcasting large task binary with size 1166.7 KiB\n",
      "24/08/08 14:45:00 WARN DAGScheduler: Broadcasting large task binary with size 1146.5 KiB\n"
     ]
    }
   ],
   "source": [
    "spam_detector = nb.fit(training)"
   ]
  },
  {
   "cell_type": "code",
   "execution_count": 46,
   "id": "8d232160-9852-4abe-9ed2-cc8be8c89ee6",
   "metadata": {},
   "outputs": [
    {
     "name": "stdout",
     "output_type": "stream",
     "text": [
      "root\n",
      " |-- class: string (nullable = true)\n",
      " |-- text: string (nullable = true)\n",
      " |-- length: integer (nullable = true)\n",
      "\n"
     ]
    }
   ],
   "source": [
    "data.printSchema()"
   ]
  },
  {
   "cell_type": "code",
   "execution_count": 47,
   "id": "4d5e4d3f-feb2-470a-a00d-dcf14840dfad",
   "metadata": {},
   "outputs": [],
   "source": [
    "test_results = spam_detector.transform(test)"
   ]
  },
  {
   "cell_type": "code",
   "execution_count": 48,
   "id": "fdf2d9ad-4017-45e4-854d-b01bcbd4b5be",
   "metadata": {},
   "outputs": [
    {
     "name": "stderr",
     "output_type": "stream",
     "text": [
      "24/08/08 14:45:38 WARN DAGScheduler: Broadcasting large task binary with size 1371.7 KiB\n"
     ]
    },
    {
     "name": "stdout",
     "output_type": "stream",
     "text": [
      "+-----+--------------------+--------------------+--------------------+----------+\n",
      "|label|            features|       rawPrediction|         probability|prediction|\n",
      "+-----+--------------------+--------------------+--------------------+----------+\n",
      "|  0.0|(13424,[0,1,2,13,...|[-622.27002638105...|[0.99999999999799...|       0.0|\n",
      "|  0.0|(13424,[0,1,3,9,1...|[-576.46533093299...|[0.99999999999163...|       0.0|\n",
      "|  0.0|(13424,[0,1,4,50,...|[-840.86815673367...|[1.0,4.6003735635...|       0.0|\n",
      "|  0.0|(13424,[0,1,5,15,...|[-1000.6688647395...|[1.0,1.3286748449...|       0.0|\n",
      "|  0.0|(13424,[0,1,7,15,...|[-655.74142278421...|[1.0,7.4400850882...|       0.0|\n",
      "|  0.0|(13424,[0,1,20,27...|[-983.38026629427...|[0.99999999999999...|       0.0|\n",
      "|  0.0|(13424,[0,1,21,27...|[-750.51176850424...|[1.0,7.2734765447...|       0.0|\n",
      "|  0.0|(13424,[0,1,23,63...|[-1313.5206915781...|[1.0,1.7207134711...|       0.0|\n",
      "|  0.0|(13424,[0,1,30,11...|[-594.96416085947...|[1.0,1.1428209212...|       0.0|\n",
      "|  0.0|(13424,[0,1,43,69...|[-615.17385807495...|[0.99939240062254...|       0.0|\n",
      "|  0.0|(13424,[0,1,428,6...|[-309.92429816084...|[0.99999999999214...|       0.0|\n",
      "|  0.0|(13424,[0,1,500,5...|[-318.73544458110...|[0.99999999999898...|       0.0|\n",
      "|  0.0|(13424,[0,1,881,1...|[-95.300608426694...|[0.99999998592897...|       0.0|\n",
      "|  0.0|(13424,[0,2,3,5,3...|[-526.19724589309...|[0.99999995557531...|       0.0|\n",
      "|  0.0|(13424,[0,2,3,6,9...|[-3394.2426593002...|[1.0,5.3395564818...|       0.0|\n",
      "|  0.0|(13424,[0,2,3,6,9...|[-3394.2426593002...|[1.0,5.3395564818...|       0.0|\n",
      "|  0.0|(13424,[0,2,4,5,7...|[-981.54442829452...|[1.0,2.3801919988...|       0.0|\n",
      "|  0.0|(13424,[0,2,4,8,2...|[-550.72035835649...|[1.0,1.9872771717...|       0.0|\n",
      "|  0.0|(13424,[0,2,4,11,...|[-1130.0636422006...|[1.0,4.7361158311...|       0.0|\n",
      "|  0.0|(13424,[0,2,4,26,...|[-421.11522260095...|[1.0,1.3117088103...|       0.0|\n",
      "+-----+--------------------+--------------------+--------------------+----------+\n",
      "only showing top 20 rows\n",
      "\n"
     ]
    },
    {
     "name": "stderr",
     "output_type": "stream",
     "text": [
      "24/08/08 14:45:39 WARN InstanceBuilder: Failed to load implementation from:dev.ludovic.netlib.blas.JNIBLAS\n"
     ]
    }
   ],
   "source": [
    "test_results.show()"
   ]
  },
  {
   "cell_type": "code",
   "execution_count": 49,
   "id": "db3e0025-6a6b-406e-97ed-5216f4223aaa",
   "metadata": {},
   "outputs": [],
   "source": [
    "from pyspark.ml.evaluation import MulticlassClassificationEvaluator"
   ]
  },
  {
   "cell_type": "code",
   "execution_count": 50,
   "id": "986cbdb6-1625-472c-af19-8372dee888b2",
   "metadata": {},
   "outputs": [],
   "source": [
    "acc_eval = MulticlassClassificationEvaluator()"
   ]
  },
  {
   "cell_type": "code",
   "execution_count": 51,
   "id": "463fd589-d690-495a-a274-5894035d7fcd",
   "metadata": {},
   "outputs": [
    {
     "name": "stderr",
     "output_type": "stream",
     "text": [
      "24/08/08 14:46:25 WARN DAGScheduler: Broadcasting large task binary with size 1376.8 KiB\n"
     ]
    }
   ],
   "source": [
    "acc = acc_eval.evaluate(test_results)"
   ]
  },
  {
   "cell_type": "code",
   "execution_count": 53,
   "id": "f574292c-dfe6-4fac-9e9e-df570d26775c",
   "metadata": {},
   "outputs": [
    {
     "name": "stdout",
     "output_type": "stream",
     "text": [
      "ACC of NB Model:\n",
      "0.9174245384144645\n"
     ]
    }
   ],
   "source": [
    "print('ACC of NB Model:')\n",
    "print(acc)"
   ]
  },
  {
   "cell_type": "code",
   "execution_count": null,
   "id": "e0d9349a-98ce-4cfd-8012-16168eab153a",
   "metadata": {},
   "outputs": [],
   "source": []
  }
 ],
 "metadata": {
  "kernelspec": {
   "display_name": "Python 3 (ipykernel)",
   "language": "python",
   "name": "python3"
  },
  "language_info": {
   "codemirror_mode": {
    "name": "ipython",
    "version": 3
   },
   "file_extension": ".py",
   "mimetype": "text/x-python",
   "name": "python",
   "nbconvert_exporter": "python",
   "pygments_lexer": "ipython3",
   "version": "3.8.10"
  }
 },
 "nbformat": 4,
 "nbformat_minor": 5
}
