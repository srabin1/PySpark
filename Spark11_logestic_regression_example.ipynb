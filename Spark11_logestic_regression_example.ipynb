{
 "cells": [
  {
   "cell_type": "code",
   "execution_count": 1,
   "id": "abd13be6-4e6c-4b7f-8ba1-924ae37f886b",
   "metadata": {},
   "outputs": [
    {
     "name": "stderr",
     "output_type": "stream",
     "text": [
      "24/08/07 14:55:02 WARN Utils: Your hostname, DESKTOP-P0KTK6U resolves to a loopback address: 127.0.1.1; using 10.255.255.254 instead (on interface lo)\n",
      "24/08/07 14:55:02 WARN Utils: Set SPARK_LOCAL_IP if you need to bind to another address\n",
      "Setting default log level to \"WARN\".\n",
      "To adjust logging level use sc.setLogLevel(newLevel). For SparkR, use setLogLevel(newLevel).\n",
      "24/08/07 14:55:03 WARN NativeCodeLoader: Unable to load native-hadoop library for your platform... using builtin-java classes where applicable\n",
      "24/08/07 14:55:03 WARN Utils: Service 'SparkUI' could not bind on port 4040. Attempting port 4041.\n",
      "24/08/07 14:55:03 WARN Utils: Service 'SparkUI' could not bind on port 4041. Attempting port 4042.\n",
      "24/08/07 14:55:03 WARN Utils: Service 'SparkUI' could not bind on port 4042. Attempting port 4043.\n",
      "24/08/07 14:55:03 WARN Utils: Service 'SparkUI' could not bind on port 4043. Attempting port 4044.\n"
     ]
    }
   ],
   "source": [
    "import findspark\n",
    "findspark.init('/home/srabin/spark-3.5.1-bin-hadoop3')\n",
    "import pyspark\n",
    "from pyspark.sql import SparkSession\n",
    "spark = SparkSession.builder.appName('logesstic_example').getOrCreate()"
   ]
  },
  {
   "cell_type": "code",
   "execution_count": 2,
   "id": "fef4bb20-9361-4df4-884a-0755e9f97833",
   "metadata": {},
   "outputs": [],
   "source": [
    "from pyspark.ml.classification import LogisticRegression"
   ]
  },
  {
   "cell_type": "code",
   "execution_count": 3,
   "id": "d682797b-bdcf-4815-bd78-571735f4b19f",
   "metadata": {},
   "outputs": [],
   "source": [
    "df = spark.read.csv('titanic.csv', inferSchema= True, header = True)"
   ]
  },
  {
   "cell_type": "code",
   "execution_count": 4,
   "id": "372bd735-7fee-40d6-9db5-605607dd6092",
   "metadata": {},
   "outputs": [
    {
     "name": "stdout",
     "output_type": "stream",
     "text": [
      "root\n",
      " |-- PassengerId: integer (nullable = true)\n",
      " |-- Survived: integer (nullable = true)\n",
      " |-- Pclass: integer (nullable = true)\n",
      " |-- Name: string (nullable = true)\n",
      " |-- Sex: string (nullable = true)\n",
      " |-- Age: double (nullable = true)\n",
      " |-- SibSp: integer (nullable = true)\n",
      " |-- Parch: integer (nullable = true)\n",
      " |-- Ticket: string (nullable = true)\n",
      " |-- Fare: double (nullable = true)\n",
      " |-- Cabin: string (nullable = true)\n",
      " |-- Embarked: string (nullable = true)\n",
      "\n"
     ]
    }
   ],
   "source": [
    "df.printSchema()"
   ]
  },
  {
   "cell_type": "code",
   "execution_count": 5,
   "id": "564380af-22c9-4d38-94eb-16e217782e86",
   "metadata": {},
   "outputs": [
    {
     "data": {
      "text/plain": [
       "['PassengerId',\n",
       " 'Survived',\n",
       " 'Pclass',\n",
       " 'Name',\n",
       " 'Sex',\n",
       " 'Age',\n",
       " 'SibSp',\n",
       " 'Parch',\n",
       " 'Ticket',\n",
       " 'Fare',\n",
       " 'Cabin',\n",
       " 'Embarked']"
      ]
     },
     "execution_count": 5,
     "metadata": {},
     "output_type": "execute_result"
    }
   ],
   "source": [
    "df.columns"
   ]
  },
  {
   "cell_type": "code",
   "execution_count": 6,
   "id": "564138a6-30d7-421b-b190-e77e115dc40a",
   "metadata": {},
   "outputs": [],
   "source": [
    "my_cols = df.select(['Survived', 'Pclass', 'Sex', 'Age', 'SibSp', 'Parch', 'Fare','Embarked'])"
   ]
  },
  {
   "cell_type": "markdown",
   "id": "a28174ac-186c-4e7e-8151-c5793f323270",
   "metadata": {},
   "source": [
    "## Deal with missing data"
   ]
  },
  {
   "cell_type": "code",
   "execution_count": 8,
   "id": "d9dbb1a5-8750-4279-aca5-b443a80a5c28",
   "metadata": {},
   "outputs": [],
   "source": [
    "my_final_data = my_cols.na.drop() # here for the simplicity we drop the missing data"
   ]
  },
  {
   "cell_type": "code",
   "execution_count": 9,
   "id": "3ab50c34-30ba-4c62-9981-a15d3632db6d",
   "metadata": {},
   "outputs": [],
   "source": [
    "from pyspark.ml.feature import VectorAssembler, VectorIndexer, OneHotEncoder, StringIndexer"
   ]
  },
  {
   "cell_type": "code",
   "execution_count": 10,
   "id": "69fcedaf-ae23-454a-ab1f-260ce3307ce8",
   "metadata": {},
   "outputs": [],
   "source": [
    "gender_indexer = StringIndexer(inputCol = 'Sex', outputCol = 'SexIndex')"
   ]
  },
  {
   "cell_type": "markdown",
   "id": "afd1694e-7a39-40af-9ccf-2b7f83bf0403",
   "metadata": {},
   "source": [
    "# first convert strings to numbers then convert numbers to binary values\n",
    "## StringIndexer:\n",
    "## A B C --> 0 1 2\n",
    "## One hot encoder:\n",
    "## key A B C\n",
    "## Example A --> [1, 0, 0] no B and C\n",
    "## Example B --> [0, 1, 0]\n",
    "## Example C --> [0, 0, 1]"
   ]
  },
  {
   "cell_type": "code",
   "execution_count": 16,
   "id": "47e6551c-c037-4983-a067-709c7720dcbb",
   "metadata": {},
   "outputs": [],
   "source": [
    "gender_encoder = OneHotEncoder(inputCol = 'SexIndex', outputCol = 'SexVec')"
   ]
  },
  {
   "cell_type": "code",
   "execution_count": 17,
   "id": "af356ca4-beed-4ab9-a864-0af41a5938a1",
   "metadata": {},
   "outputs": [],
   "source": [
    "embark_indexer = StringIndexer(inputCol = 'Embarked', outputCol = 'EmbarkIndex')\n",
    "embark_encoder = OneHotEncoder(inputCol = 'EmbarkIndex', outputCol = 'EmbarkVec')"
   ]
  },
  {
   "cell_type": "code",
   "execution_count": 18,
   "id": "c416d7d2-ea37-4291-8842-0fcfa1e8e4e8",
   "metadata": {},
   "outputs": [],
   "source": [
    "assembler = VectorAssembler(inputCols = ['Pclass', 'SexVec', 'EmbarkVec', 'Age', 'SibSp', 'Parch', 'Fare'],\n",
    "                            outputCol = 'features')"
   ]
  },
  {
   "cell_type": "code",
   "execution_count": 19,
   "id": "56f9115d-24e4-4038-ae98-87d21988078f",
   "metadata": {},
   "outputs": [],
   "source": [
    "from pyspark.ml.classification import LogisticRegression"
   ]
  },
  {
   "cell_type": "markdown",
   "id": "99ff874d-1644-4c3a-af30-707e06016596",
   "metadata": {},
   "source": [
    "## import pipeline to set stages for different steps"
   ]
  },
  {
   "cell_type": "code",
   "execution_count": 20,
   "id": "0d6793ce-c292-41b2-9ddb-8d1d0b42def6",
   "metadata": {},
   "outputs": [],
   "source": [
    "from pyspark.ml import Pipeline"
   ]
  },
  {
   "cell_type": "code",
   "execution_count": 21,
   "id": "11c51f98-9d3f-4000-81ac-1700b42d1d1a",
   "metadata": {},
   "outputs": [],
   "source": [
    "log_reg_titanic = LogisticRegression(featuresCol = 'features', labelCol = 'Survived')"
   ]
  },
  {
   "cell_type": "code",
   "execution_count": 27,
   "id": "81ae2543-0926-4fb0-98a2-574791094182",
   "metadata": {},
   "outputs": [],
   "source": [
    "pipeline = Pipeline(stages = [gender_indexer, embark_indexer, gender_encoder, \n",
    "                               embark_encoder, assembler, log_reg_titanic])"
   ]
  },
  {
   "cell_type": "code",
   "execution_count": 28,
   "id": "f2006261-216f-4406-8b3a-f4c5c7ebe864",
   "metadata": {},
   "outputs": [],
   "source": [
    "train_data, test_data = my_final_data.randomSplit([0.7, 0.3])"
   ]
  },
  {
   "cell_type": "code",
   "execution_count": 31,
   "id": "b65e0962-21a3-4f7d-9ffb-ac9a234a6f16",
   "metadata": {},
   "outputs": [],
   "source": [
    "fit_model = pipeline.fit(train_data)"
   ]
  },
  {
   "cell_type": "code",
   "execution_count": 32,
   "id": "7360e191-4c0a-4be1-bf15-1f1cf1954893",
   "metadata": {},
   "outputs": [],
   "source": [
    "results = fit_model.transform(test_data)"
   ]
  },
  {
   "cell_type": "code",
   "execution_count": 33,
   "id": "ca72f8ed-5d8a-4221-a052-cdbc4f844a73",
   "metadata": {},
   "outputs": [],
   "source": [
    "from pyspark.ml.evaluation import BinaryClassificationEvaluator"
   ]
  },
  {
   "cell_type": "code",
   "execution_count": 34,
   "id": "8fa42b9c-2723-415b-8c45-eb9bf451dbe1",
   "metadata": {},
   "outputs": [],
   "source": [
    "my_eval = BinaryClassificationEvaluator(rawPredictionCol = 'prediction', labelCol = 'Survived')"
   ]
  },
  {
   "cell_type": "code",
   "execution_count": 35,
   "id": "db5793c0-7977-43f1-95c8-23f7aca5dd17",
   "metadata": {},
   "outputs": [
    {
     "name": "stdout",
     "output_type": "stream",
     "text": [
      "+--------+----------+\n",
      "|Survived|prediction|\n",
      "+--------+----------+\n",
      "|       0|       0.0|\n",
      "|       0|       1.0|\n",
      "|       0|       1.0|\n",
      "|       0|       1.0|\n",
      "|       0|       0.0|\n",
      "|       0|       0.0|\n",
      "|       0|       0.0|\n",
      "|       0|       0.0|\n",
      "|       0|       0.0|\n",
      "|       0|       0.0|\n",
      "|       0|       0.0|\n",
      "|       0|       0.0|\n",
      "|       0|       0.0|\n",
      "|       0|       0.0|\n",
      "|       0|       1.0|\n",
      "|       0|       1.0|\n",
      "|       0|       0.0|\n",
      "|       0|       0.0|\n",
      "|       0|       0.0|\n",
      "|       0|       0.0|\n",
      "+--------+----------+\n",
      "only showing top 20 rows\n",
      "\n"
     ]
    }
   ],
   "source": [
    "results.select('Survived', 'prediction').show()"
   ]
  },
  {
   "cell_type": "code",
   "execution_count": 36,
   "id": "721e5e70-a14f-4297-b431-e67b374a2267",
   "metadata": {},
   "outputs": [],
   "source": [
    "AUC = my_eval.evaluate(results)"
   ]
  },
  {
   "cell_type": "markdown",
   "id": "e3a738a1-6892-4ef6-a956-1981ebc542e4",
   "metadata": {},
   "source": [
    "AUC"
   ]
  },
  {
   "cell_type": "code",
   "execution_count": null,
   "id": "aef10d9c-11a7-4531-bc34-244e96546bda",
   "metadata": {},
   "outputs": [],
   "source": []
  }
 ],
 "metadata": {
  "kernelspec": {
   "display_name": "Python 3 (ipykernel)",
   "language": "python",
   "name": "python3"
  },
  "language_info": {
   "codemirror_mode": {
    "name": "ipython",
    "version": 3
   },
   "file_extension": ".py",
   "mimetype": "text/x-python",
   "name": "python",
   "nbconvert_exporter": "python",
   "pygments_lexer": "ipython3",
   "version": "3.8.10"
  }
 },
 "nbformat": 4,
 "nbformat_minor": 5
}
