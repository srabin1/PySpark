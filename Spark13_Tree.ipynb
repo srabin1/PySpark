{
 "cells": [
  {
   "cell_type": "code",
   "execution_count": 1,
   "id": "51ed325b-b58f-406e-b440-12e6e4679514",
   "metadata": {},
   "outputs": [
    {
     "name": "stderr",
     "output_type": "stream",
     "text": [
      "24/08/07 16:26:51 WARN Utils: Your hostname, DESKTOP-P0KTK6U resolves to a loopback address: 127.0.1.1; using 10.255.255.254 instead (on interface lo)\n",
      "24/08/07 16:26:51 WARN Utils: Set SPARK_LOCAL_IP if you need to bind to another address\n",
      "Setting default log level to \"WARN\".\n",
      "To adjust logging level use sc.setLogLevel(newLevel). For SparkR, use setLogLevel(newLevel).\n",
      "24/08/07 16:26:51 WARN NativeCodeLoader: Unable to load native-hadoop library for your platform... using builtin-java classes where applicable\n",
      "24/08/07 16:26:52 WARN Utils: Service 'SparkUI' could not bind on port 4040. Attempting port 4041.\n",
      "24/08/07 16:26:52 WARN Utils: Service 'SparkUI' could not bind on port 4041. Attempting port 4042.\n",
      "24/08/07 16:26:52 WARN Utils: Service 'SparkUI' could not bind on port 4042. Attempting port 4043.\n",
      "24/08/07 16:26:52 WARN Utils: Service 'SparkUI' could not bind on port 4043. Attempting port 4044.\n",
      "24/08/07 16:26:52 WARN Utils: Service 'SparkUI' could not bind on port 4044. Attempting port 4045.\n",
      "24/08/07 16:26:52 WARN Utils: Service 'SparkUI' could not bind on port 4045. Attempting port 4046.\n"
     ]
    }
   ],
   "source": [
    "import findspark\n",
    "findspark.init('/home/srabin/spark-3.5.1-bin-hadoop3')\n",
    "import pyspark\n",
    "from pyspark.sql import SparkSession\n",
    "spark = SparkSession.builder.appName('my_tree').getOrCreate()"
   ]
  },
  {
   "cell_type": "code",
   "execution_count": 3,
   "id": "95eefef1-6b48-456b-9481-185ea0ca2f53",
   "metadata": {},
   "outputs": [],
   "source": [
    "from pyspark.ml import Pipeline"
   ]
  },
  {
   "cell_type": "code",
   "execution_count": 4,
   "id": "b0448865-ac49-4665-97d8-b2fc83625ceb",
   "metadata": {},
   "outputs": [],
   "source": [
    "from pyspark.ml.classification import RandomForestClassifier, GBTClassifier, DecisionTreeClassifier"
   ]
  },
  {
   "cell_type": "code",
   "execution_count": 5,
   "id": "cb365a13-f934-4a3c-8c53-c59e38e45f94",
   "metadata": {},
   "outputs": [],
   "source": [
    "#from pyspark.ml.regression import RandomForestRegressor, GBTRegressor, DecisionTreeRegressor"
   ]
  },
  {
   "cell_type": "code",
   "execution_count": 6,
   "id": "b15e8c82-7c5e-4305-a472-661b5f059bf6",
   "metadata": {},
   "outputs": [
    {
     "name": "stderr",
     "output_type": "stream",
     "text": [
      "24/08/07 16:31:31 WARN LibSVMFileFormat: 'numFeatures' option not specified, determining the number of features by going though the input. If you know the number in advance, please specify it via 'numFeatures' option to avoid the extra scan.\n"
     ]
    }
   ],
   "source": [
    "data =  spark.read.format('libsvm').load('sample_libsvm_data.txt')"
   ]
  },
  {
   "cell_type": "code",
   "execution_count": 7,
   "id": "1f38f7a9-89fb-48fc-aa71-5471612ea31a",
   "metadata": {},
   "outputs": [
    {
     "name": "stdout",
     "output_type": "stream",
     "text": [
      "+-----+--------------------+\n",
      "|label|            features|\n",
      "+-----+--------------------+\n",
      "|  0.0|(692,[127,128,129...|\n",
      "|  1.0|(692,[158,159,160...|\n",
      "|  1.0|(692,[124,125,126...|\n",
      "|  1.0|(692,[152,153,154...|\n",
      "|  1.0|(692,[151,152,153...|\n",
      "|  0.0|(692,[129,130,131...|\n",
      "|  1.0|(692,[158,159,160...|\n",
      "|  1.0|(692,[99,100,101,...|\n",
      "|  0.0|(692,[154,155,156...|\n",
      "|  0.0|(692,[127,128,129...|\n",
      "|  1.0|(692,[154,155,156...|\n",
      "|  0.0|(692,[153,154,155...|\n",
      "|  0.0|(692,[151,152,153...|\n",
      "|  1.0|(692,[129,130,131...|\n",
      "|  0.0|(692,[154,155,156...|\n",
      "|  1.0|(692,[150,151,152...|\n",
      "|  0.0|(692,[124,125,126...|\n",
      "|  0.0|(692,[152,153,154...|\n",
      "|  1.0|(692,[97,98,99,12...|\n",
      "|  1.0|(692,[124,125,126...|\n",
      "+-----+--------------------+\n",
      "only showing top 20 rows\n",
      "\n"
     ]
    }
   ],
   "source": [
    "data.show()"
   ]
  },
  {
   "cell_type": "code",
   "execution_count": 8,
   "id": "0318264d-0c19-40c4-b4b9-8d957c1e8082",
   "metadata": {},
   "outputs": [],
   "source": [
    "train_data, test_data = data.randomSplit([0.7, 0.3])"
   ]
  },
  {
   "cell_type": "code",
   "execution_count": 10,
   "id": "9d398b79-0a9c-4cd5-9421-8880fc36d745",
   "metadata": {},
   "outputs": [],
   "source": [
    "dtc = DecisionTreeClassifier()\n",
    "rfc = RandomForestClassifier(numTrees = 100)\n",
    "gbt = GBTClassifier()"
   ]
  },
  {
   "cell_type": "code",
   "execution_count": 11,
   "id": "dab3728e-fcd4-4d3c-8ad6-255c052ec884",
   "metadata": {},
   "outputs": [],
   "source": [
    "dtc_model = dtc.fit(train_data)\n",
    "rfc_model = rfc.fit(train_data)\n",
    "gbt_model = gbt.fit(train_data)"
   ]
  },
  {
   "cell_type": "code",
   "execution_count": 13,
   "id": "2bfd1ef3-3d07-4070-b3b6-2e221391e56c",
   "metadata": {},
   "outputs": [],
   "source": [
    "dtc_preds = dtc_model.transform(test_data)\n",
    "rfc_preds = rfc_model.transform(test_data)\n",
    "gbt_preds = gbt_model.transform(test_data)"
   ]
  },
  {
   "cell_type": "code",
   "execution_count": 14,
   "id": "0f05a335-d93e-4a7d-bbf5-0b5a9dcc85a2",
   "metadata": {},
   "outputs": [
    {
     "name": "stdout",
     "output_type": "stream",
     "text": [
      "+-----+--------------------+-------------+-----------+----------+\n",
      "|label|            features|rawPrediction|probability|prediction|\n",
      "+-----+--------------------+-------------+-----------+----------+\n",
      "|  0.0|(692,[98,99,100,1...|   [33.0,0.0]|  [1.0,0.0]|       0.0|\n",
      "|  0.0|(692,[122,123,124...|   [33.0,0.0]|  [1.0,0.0]|       0.0|\n",
      "|  0.0|(692,[124,125,126...|   [33.0,0.0]|  [1.0,0.0]|       0.0|\n",
      "|  0.0|(692,[124,125,126...|   [33.0,0.0]|  [1.0,0.0]|       0.0|\n",
      "|  0.0|(692,[126,127,128...|   [33.0,0.0]|  [1.0,0.0]|       0.0|\n",
      "|  0.0|(692,[128,129,130...|   [33.0,0.0]|  [1.0,0.0]|       0.0|\n",
      "|  0.0|(692,[152,153,154...|   [33.0,0.0]|  [1.0,0.0]|       0.0|\n",
      "|  0.0|(692,[154,155,156...|   [0.0,37.0]|  [0.0,1.0]|       1.0|\n",
      "|  0.0|(692,[154,155,156...|   [0.0,37.0]|  [0.0,1.0]|       1.0|\n",
      "|  0.0|(692,[181,182,183...|   [33.0,0.0]|  [1.0,0.0]|       0.0|\n",
      "|  1.0|(692,[100,101,102...|   [0.0,37.0]|  [0.0,1.0]|       1.0|\n",
      "|  1.0|(692,[119,120,121...|   [0.0,37.0]|  [0.0,1.0]|       1.0|\n",
      "|  1.0|(692,[123,124,125...|   [0.0,37.0]|  [0.0,1.0]|       1.0|\n",
      "|  1.0|(692,[123,124,125...|   [0.0,37.0]|  [0.0,1.0]|       1.0|\n",
      "|  1.0|(692,[124,125,126...|   [0.0,37.0]|  [0.0,1.0]|       1.0|\n",
      "|  1.0|(692,[124,125,126...|   [0.0,37.0]|  [0.0,1.0]|       1.0|\n",
      "|  1.0|(692,[125,126,127...|   [0.0,37.0]|  [0.0,1.0]|       1.0|\n",
      "|  1.0|(692,[126,127,128...|   [0.0,37.0]|  [0.0,1.0]|       1.0|\n",
      "|  1.0|(692,[127,128,129...|   [0.0,37.0]|  [0.0,1.0]|       1.0|\n",
      "|  1.0|(692,[127,128,129...|   [0.0,37.0]|  [0.0,1.0]|       1.0|\n",
      "+-----+--------------------+-------------+-----------+----------+\n",
      "only showing top 20 rows\n",
      "\n"
     ]
    }
   ],
   "source": [
    "dtc_preds.show()"
   ]
  },
  {
   "cell_type": "code",
   "execution_count": 15,
   "id": "06dc3945-2bb0-4adb-93e5-c109b1691ae4",
   "metadata": {},
   "outputs": [],
   "source": [
    "from pyspark.ml.evaluation import MulticlassClassificationEvaluator"
   ]
  },
  {
   "cell_type": "code",
   "execution_count": 16,
   "id": "792c01ac-ecdc-4202-b1e8-9b7fe57ff77a",
   "metadata": {},
   "outputs": [],
   "source": [
    "acc_eval = MulticlassClassificationEvaluator(metricName = 'accuracy')"
   ]
  },
  {
   "cell_type": "code",
   "execution_count": 17,
   "id": "94e7233f-07f4-4a3f-b65e-3afe97e32f0a",
   "metadata": {},
   "outputs": [
    {
     "name": "stdout",
     "output_type": "stream",
     "text": [
      "Decision Tree Clasifier Accuracy:\n"
     ]
    },
    {
     "data": {
      "text/plain": [
       "0.9333333333333333"
      ]
     },
     "execution_count": 17,
     "metadata": {},
     "output_type": "execute_result"
    }
   ],
   "source": [
    "print('Decision Tree Clasifier Accuracy:')\n",
    "acc_eval.evaluate(dtc_preds)"
   ]
  },
  {
   "cell_type": "code",
   "execution_count": 18,
   "id": "872bb014-8cf3-4997-a087-058a135e3452",
   "metadata": {},
   "outputs": [
    {
     "name": "stdout",
     "output_type": "stream",
     "text": [
      "Random Forest Clasifier Accuracy:\n"
     ]
    },
    {
     "data": {
      "text/plain": [
       "1.0"
      ]
     },
     "execution_count": 18,
     "metadata": {},
     "output_type": "execute_result"
    }
   ],
   "source": [
    "print('Random Forest Clasifier Accuracy:')\n",
    "acc_eval.evaluate(rfc_preds)"
   ]
  },
  {
   "cell_type": "code",
   "execution_count": 20,
   "id": "dd8aad7a-afd6-4b48-a216-5d3de3a59ac1",
   "metadata": {},
   "outputs": [
    {
     "name": "stdout",
     "output_type": "stream",
     "text": [
      "Gradiant Bosster Clasifier Accuracy:\n"
     ]
    },
    {
     "name": "stderr",
     "output_type": "stream",
     "text": [
      "24/08/07 16:49:09 WARN InstanceBuilder: Failed to load implementation from:dev.ludovic.netlib.blas.JNIBLAS\n"
     ]
    },
    {
     "data": {
      "text/plain": [
       "0.9333333333333333"
      ]
     },
     "execution_count": 20,
     "metadata": {},
     "output_type": "execute_result"
    }
   ],
   "source": [
    "print('Gradiant Bosster Clasifier Accuracy:')\n",
    "acc_eval.evaluate(gbt_preds)"
   ]
  },
  {
   "cell_type": "code",
   "execution_count": 21,
   "id": "eb625979-5c83-4a64-bc16-5e92a71687c7",
   "metadata": {},
   "outputs": [
    {
     "data": {
      "text/plain": [
       "SparseVector(692, {99: 0.0006, 102: 0.0006, 131: 0.0003, 155: 0.0003, 206: 0.0016, 207: 0.0066, 214: 0.002, 232: 0.0019, 234: 0.0022, 235: 0.0005, 239: 0.0007, 241: 0.0004, 258: 0.0006, 263: 0.0009, 268: 0.0006, 271: 0.0008, 272: 0.0006, 273: 0.0159, 274: 0.0046, 288: 0.0007, 290: 0.0138, 293: 0.0005, 295: 0.0008, 299: 0.0005, 300: 0.007, 302: 0.0016, 316: 0.005, 317: 0.0015, 318: 0.0034, 319: 0.0009, 323: 0.0077, 324: 0.0067, 327: 0.0014, 344: 0.0092, 345: 0.0077, 346: 0.0019, 347: 0.0031, 350: 0.0041, 351: 0.028, 352: 0.0061, 356: 0.0093, 357: 0.0139, 358: 0.0005, 370: 0.0006, 372: 0.0021, 373: 0.0033, 374: 0.0027, 375: 0.0005, 377: 0.004, 378: 0.0238, 379: 0.0374, 380: 0.0069, 381: 0.0005, 385: 0.0068, 386: 0.0071, 387: 0.0007, 400: 0.0128, 405: 0.0376, 406: 0.0383, 407: 0.0413, 408: 0.0069, 409: 0.0009, 410: 0.0026, 411: 0.0034, 412: 0.0069, 415: 0.0007, 427: 0.0063, 430: 0.0007, 433: 0.0403, 434: 0.087, 435: 0.0145, 436: 0.0011, 442: 0.0069, 453: 0.0015, 455: 0.016, 456: 0.0067, 457: 0.0014, 460: 0.013, 461: 0.031, 462: 0.0314, 463: 0.0248, 464: 0.0004, 466: 0.0053, 469: 0.0024, 471: 0.0033, 481: 0.0019, 482: 0.0063, 483: 0.0264, 489: 0.0623, 490: 0.0342, 491: 0.001, 492: 0.0006, 493: 0.0011, 510: 0.0032, 511: 0.0353, 512: 0.0167, 515: 0.0016, 516: 0.0005, 517: 0.0098, 518: 0.0101, 519: 0.0012, 523: 0.0069, 538: 0.0006, 539: 0.0026, 540: 0.027, 543: 0.0013, 546: 0.0011, 548: 0.0005, 551: 0.0058, 552: 0.0069, 567: 0.0097, 570: 0.0009, 596: 0.001, 599: 0.0005, 607: 0.0026, 622: 0.0005, 628: 0.0003, 632: 0.0007, 658: 0.0003})"
      ]
     },
     "execution_count": 21,
     "metadata": {},
     "output_type": "execute_result"
    }
   ],
   "source": [
    "rfc_model.featureImportances"
   ]
  },
  {
   "cell_type": "code",
   "execution_count": null,
   "id": "cb5280b4-68f5-4fc1-a5a6-d454801160ae",
   "metadata": {},
   "outputs": [],
   "source": []
  }
 ],
 "metadata": {
  "kernelspec": {
   "display_name": "Python 3 (ipykernel)",
   "language": "python",
   "name": "python3"
  },
  "language_info": {
   "codemirror_mode": {
    "name": "ipython",
    "version": 3
   },
   "file_extension": ".py",
   "mimetype": "text/x-python",
   "name": "python",
   "nbconvert_exporter": "python",
   "pygments_lexer": "ipython3",
   "version": "3.8.10"
  }
 },
 "nbformat": 4,
 "nbformat_minor": 5
}
