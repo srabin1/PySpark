{
 "cells": [
  {
   "cell_type": "markdown",
   "id": "52192ec6-15d9-42b6-ad78-dcb5abd6639c",
   "metadata": {},
   "source": [
    "# Pyspark: Recommender system"
   ]
  },
  {
   "cell_type": "code",
   "execution_count": 1,
   "id": "ceb7c3de-840b-4316-b4e7-8d0d2bdc3126",
   "metadata": {},
   "outputs": [
    {
     "name": "stderr",
     "output_type": "stream",
     "text": [
      "24/08/07 18:09:15 WARN Utils: Your hostname, DESKTOP-P0KTK6U resolves to a loopback address: 127.0.1.1; using 10.255.255.254 instead (on interface lo)\n",
      "24/08/07 18:09:15 WARN Utils: Set SPARK_LOCAL_IP if you need to bind to another address\n",
      "Setting default log level to \"WARN\".\n",
      "To adjust logging level use sc.setLogLevel(newLevel). For SparkR, use setLogLevel(newLevel).\n",
      "24/08/07 18:09:15 WARN NativeCodeLoader: Unable to load native-hadoop library for your platform... using builtin-java classes where applicable\n",
      "24/08/07 18:09:16 WARN Utils: Service 'SparkUI' could not bind on port 4040. Attempting port 4041.\n",
      "24/08/07 18:09:16 WARN Utils: Service 'SparkUI' could not bind on port 4041. Attempting port 4042.\n",
      "24/08/07 18:09:16 WARN Utils: Service 'SparkUI' could not bind on port 4042. Attempting port 4043.\n",
      "24/08/07 18:09:16 WARN Utils: Service 'SparkUI' could not bind on port 4043. Attempting port 4044.\n",
      "24/08/07 18:09:16 WARN Utils: Service 'SparkUI' could not bind on port 4044. Attempting port 4045.\n",
      "24/08/07 18:09:16 WARN Utils: Service 'SparkUI' could not bind on port 4045. Attempting port 4046.\n",
      "24/08/07 18:09:16 WARN Utils: Service 'SparkUI' could not bind on port 4046. Attempting port 4047.\n",
      "24/08/07 18:09:16 WARN Utils: Service 'SparkUI' could not bind on port 4047. Attempting port 4048.\n",
      "24/08/07 18:09:16 WARN Utils: Service 'SparkUI' could not bind on port 4048. Attempting port 4049.\n"
     ]
    }
   ],
   "source": [
    "import findspark\n",
    "findspark.init('/home/srabin/spark-3.5.1-bin-hadoop3')\n",
    "import pyspark\n",
    "from pyspark.sql import SparkSession\n",
    "spark = SparkSession.builder.appName('rec').getOrCreate()"
   ]
  },
  {
   "cell_type": "code",
   "execution_count": 2,
   "id": "516575a7-876d-4af6-95f7-265c4f050875",
   "metadata": {},
   "outputs": [],
   "source": [
    "from pyspark.ml.recommendation import ALS"
   ]
  },
  {
   "cell_type": "code",
   "execution_count": 3,
   "id": "a22a8589-dfda-4e03-81d6-2f46c214efc7",
   "metadata": {},
   "outputs": [],
   "source": [
    "from pyspark.ml.evaluation import RegressionEvaluator"
   ]
  },
  {
   "cell_type": "code",
   "execution_count": 4,
   "id": "619cff19-700d-433c-88bd-716b83bdbb22",
   "metadata": {},
   "outputs": [],
   "source": [
    "data = spark.read.csv('movielens_ratings.csv', inferSchema= True, header = True)"
   ]
  },
  {
   "cell_type": "code",
   "execution_count": 5,
   "id": "67e21ee9-b0b0-47de-82c6-0921f9d004cd",
   "metadata": {},
   "outputs": [
    {
     "name": "stdout",
     "output_type": "stream",
     "text": [
      "+-------+------+------+\n",
      "|movieId|rating|userId|\n",
      "+-------+------+------+\n",
      "|      2|   3.0|     0|\n",
      "|      3|   1.0|     0|\n",
      "|      5|   2.0|     0|\n",
      "|      9|   4.0|     0|\n",
      "|     11|   1.0|     0|\n",
      "|     12|   2.0|     0|\n",
      "|     15|   1.0|     0|\n",
      "|     17|   1.0|     0|\n",
      "|     19|   1.0|     0|\n",
      "|     21|   1.0|     0|\n",
      "|     23|   1.0|     0|\n",
      "|     26|   3.0|     0|\n",
      "|     27|   1.0|     0|\n",
      "|     28|   1.0|     0|\n",
      "|     29|   1.0|     0|\n",
      "|     30|   1.0|     0|\n",
      "|     31|   1.0|     0|\n",
      "|     34|   1.0|     0|\n",
      "|     37|   1.0|     0|\n",
      "|     41|   2.0|     0|\n",
      "+-------+------+------+\n",
      "only showing top 20 rows\n",
      "\n"
     ]
    }
   ],
   "source": [
    "data.show()"
   ]
  },
  {
   "cell_type": "code",
   "execution_count": 6,
   "id": "33723cd4-c181-49a6-a69f-bd8caff22951",
   "metadata": {},
   "outputs": [
    {
     "name": "stdout",
     "output_type": "stream",
     "text": [
      "+-------+------------------+------------------+------------------+\n",
      "|summary|           movieId|            rating|            userId|\n",
      "+-------+------------------+------------------+------------------+\n",
      "|  count|              1501|              1501|              1501|\n",
      "|   mean| 49.40572951365756|1.7741505662891406|14.383744170552964|\n",
      "| stddev|28.937034065088994| 1.187276166124803| 8.591040424293272|\n",
      "|    min|                 0|               1.0|                 0|\n",
      "|    max|                99|               5.0|                29|\n",
      "+-------+------------------+------------------+------------------+\n",
      "\n"
     ]
    }
   ],
   "source": [
    "data.describe().show()"
   ]
  },
  {
   "cell_type": "code",
   "execution_count": 7,
   "id": "a83bcafa-7e40-412b-9873-8a6ddb98f3cb",
   "metadata": {},
   "outputs": [],
   "source": [
    "training, test = data.randomSplit([0.7, 0.3])"
   ]
  },
  {
   "cell_type": "code",
   "execution_count": 8,
   "id": "fc4875d2-3ab9-4d6d-a1be-412e2e5601fd",
   "metadata": {},
   "outputs": [],
   "source": [
    "als = ALS(maxIter = 5, regParam = 0.01, userCol = 'userId', itemCol = 'movieId', ratingCol = 'rating')"
   ]
  },
  {
   "cell_type": "code",
   "execution_count": 9,
   "id": "6cc23e7e-0ca5-4175-9c25-b4d78461e424",
   "metadata": {},
   "outputs": [
    {
     "name": "stderr",
     "output_type": "stream",
     "text": [
      "24/08/07 18:14:37 WARN InstanceBuilder: Failed to load implementation from:dev.ludovic.netlib.blas.JNIBLAS\n",
      "24/08/07 18:14:37 WARN InstanceBuilder: Failed to load implementation from:dev.ludovic.netlib.lapack.JNILAPACK\n"
     ]
    }
   ],
   "source": [
    "model = als.fit(training)"
   ]
  },
  {
   "cell_type": "code",
   "execution_count": 10,
   "id": "73c8e6c8-6c39-4dd1-b95d-3f2e00a0ad94",
   "metadata": {},
   "outputs": [],
   "source": [
    "predictions = model.transform(test)"
   ]
  },
  {
   "cell_type": "code",
   "execution_count": 11,
   "id": "ff6041c6-ba1b-4485-9cba-0e3b9f3428b5",
   "metadata": {},
   "outputs": [
    {
     "name": "stdout",
     "output_type": "stream",
     "text": [
      "+-------+------+------+-----------+\n",
      "|movieId|rating|userId| prediction|\n",
      "+-------+------+------+-----------+\n",
      "|      0|   3.0|    28| -1.3189957|\n",
      "|      2|   4.0|    28|  1.7508816|\n",
      "|      3|   1.0|    26|-0.41795892|\n",
      "|      2|   2.0|     1|    2.57038|\n",
      "|      3|   1.0|     1| 0.28812385|\n",
      "|      0|   1.0|    13|   1.478679|\n",
      "|      0|   1.0|     6|  0.5492722|\n",
      "|      2|   2.0|    20|   4.117182|\n",
      "|      4|   1.0|     5| 0.54490626|\n",
      "|      0|   1.0|    19|  1.1769027|\n",
      "|      3|   1.0|     9| -1.7746772|\n",
      "|      2|   1.0|    23| -5.4261417|\n",
      "|      1|   1.0|     7|  1.6017394|\n",
      "|      4|   1.0|     7| -0.7674225|\n",
      "|      2|   4.0|    10|  0.2206416|\n",
      "|      1|   3.0|    25|-0.26600462|\n",
      "|      2|   1.0|    25|  2.6617644|\n",
      "|      3|   1.0|    29|-0.41103297|\n",
      "|      4|   1.0|    29|    4.22758|\n",
      "|      0|   1.0|    11|-0.89375186|\n",
      "+-------+------+------+-----------+\n",
      "only showing top 20 rows\n",
      "\n"
     ]
    }
   ],
   "source": [
    "predictions.show()"
   ]
  },
  {
   "cell_type": "code",
   "execution_count": 13,
   "id": "6b5c1e45-070f-42ba-8ad0-4272d992dc1c",
   "metadata": {},
   "outputs": [],
   "source": [
    "evaluator = RegressionEvaluator(metricName = 'rmse', labelCol = 'rating', predictionCol = 'prediction') # root mean squared error = rmse"
   ]
  },
  {
   "cell_type": "code",
   "execution_count": 15,
   "id": "6a0288bd-c5c9-4e33-bb8f-afc9a5c9ed80",
   "metadata": {},
   "outputs": [],
   "source": [
    "rmse = evaluator.evaluate(predictions)"
   ]
  },
  {
   "cell_type": "code",
   "execution_count": 16,
   "id": "4003a003-ea9e-468b-b690-3aa58c90db51",
   "metadata": {},
   "outputs": [
    {
     "name": "stdout",
     "output_type": "stream",
     "text": [
      "RMSE:\n",
      "2.0405832628082954\n"
     ]
    }
   ],
   "source": [
    "print('RMSE:')\n",
    "print(rmse)"
   ]
  },
  {
   "cell_type": "code",
   "execution_count": 17,
   "id": "f36d2393-ece3-4a4f-b5f6-7147883e13b0",
   "metadata": {},
   "outputs": [],
   "source": [
    "# what if we have a single user?\n",
    "single_user = test.filter(test['userId'] == 11).select(['movieId', 'userId'])"
   ]
  },
  {
   "cell_type": "code",
   "execution_count": 19,
   "id": "5898141f-ab25-468d-b0d2-c272a93e5d7d",
   "metadata": {},
   "outputs": [
    {
     "name": "stdout",
     "output_type": "stream",
     "text": [
      "+-------+------+\n",
      "|movieId|userId|\n",
      "+-------+------+\n",
      "|      0|    11|\n",
      "|      6|    11|\n",
      "|     18|    11|\n",
      "|     27|    11|\n",
      "|     30|    11|\n",
      "|     32|    11|\n",
      "|     35|    11|\n",
      "|     41|    11|\n",
      "|     48|    11|\n",
      "|     61|    11|\n",
      "|     64|    11|\n",
      "|     66|    11|\n",
      "|     67|    11|\n",
      "|     75|    11|\n",
      "|     77|    11|\n",
      "|     80|    11|\n",
      "|     82|    11|\n",
      "|     94|    11|\n",
      "+-------+------+\n",
      "\n"
     ]
    }
   ],
   "source": [
    "single_user.show()"
   ]
  },
  {
   "cell_type": "code",
   "execution_count": 21,
   "id": "f2e37fbc-7511-4314-868a-438302513dab",
   "metadata": {},
   "outputs": [],
   "source": [
    "recommendations = model.transform(single_user)"
   ]
  },
  {
   "cell_type": "code",
   "execution_count": 22,
   "id": "d4d03006-c7eb-4dde-8fb7-74c01588c478",
   "metadata": {},
   "outputs": [
    {
     "name": "stdout",
     "output_type": "stream",
     "text": [
      "+-------+------+------------+\n",
      "|movieId|userId|  prediction|\n",
      "+-------+------+------------+\n",
      "|     64|    11|   3.6422646|\n",
      "|     32|    11|   2.5151095|\n",
      "|     27|    11|    1.983849|\n",
      "|     48|    11|   1.8903351|\n",
      "|     66|    11|   1.5343828|\n",
      "|      6|    11|   1.5050746|\n",
      "|     30|    11|   1.4067416|\n",
      "|     94|    11|   0.8130052|\n",
      "|     61|    11|   0.6076099|\n",
      "|     82|    11|-0.056153223|\n",
      "|     75|    11| -0.07139644|\n",
      "|     18|    11| -0.19947168|\n",
      "|     80|    11| -0.47043937|\n",
      "|      0|    11| -0.89375186|\n",
      "|     35|    11| -0.89503276|\n",
      "|     41|    11|  -1.3396571|\n",
      "|     67|    11|  -1.3458642|\n",
      "|     77|    11|  -1.6785713|\n",
      "+-------+------+------------+\n",
      "\n"
     ]
    }
   ],
   "source": [
    "recommendations.orderBy('prediction', ascending = False).show()"
   ]
  },
  {
   "cell_type": "code",
   "execution_count": null,
   "id": "458bb80c-c158-4c06-a5af-d9e3fa77dd29",
   "metadata": {},
   "outputs": [],
   "source": []
  }
 ],
 "metadata": {
  "kernelspec": {
   "display_name": "Python 3 (ipykernel)",
   "language": "python",
   "name": "python3"
  },
  "language_info": {
   "codemirror_mode": {
    "name": "ipython",
    "version": 3
   },
   "file_extension": ".py",
   "mimetype": "text/x-python",
   "name": "python",
   "nbconvert_exporter": "python",
   "pygments_lexer": "ipython3",
   "version": "3.8.10"
  }
 },
 "nbformat": 4,
 "nbformat_minor": 5
}
